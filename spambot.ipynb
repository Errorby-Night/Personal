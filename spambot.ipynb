import pyautogui, time

time.sleep(6)
f=open("HappyBday.txt",'r')
for word in f:
    pyautogui.typewrite(word)
    pyautogui.press("enter")
