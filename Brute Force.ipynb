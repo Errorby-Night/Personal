{
 "cells": [
  {
   "cell_type": "code",
   "execution_count": 2,
   "metadata": {},
   "outputs": [],
   "source": [
    "#to brute force a zip file\n",
    "import zipfile\n",
    "\n",
    "charlist='abcdeffghijklmnopqrstuvwxyzABCDEFGHIJKLMNOPQRSTUVWXYZ0123456789!@#$%^&*()_+='\n",
    "complete=[]\n",
    "\n",
    "for current in range(4):  #the number in range is to denote the number to characters in the password\n",
    "    #the shorter the range the less time required to crack\n",
    "    a=[i for i in charlist]\n",
    "    for x in range(current):\n",
    "        a=[y+i for i in charlist for y in a]\n",
    "    complete= complete + a\n",
    "\n",
    "z=zipfile.ZipFile('Exercise_2.zip')\n",
    "t=0\n",
    "\n",
    "for password in complete:\n",
    "    try:\n",
    "        t+=1\n",
    "        z.setpassword(password.encode('ascii'))\n",
    "        z.extract('test.txt')\n",
    "        print(f'password was found after {t} tries! The password is {password}')\n",
    "    except:\n",
    "        pass"
   ]
  },
  {
   "cell_type": "code",
   "execution_count": null,
   "metadata": {},
   "outputs": [],
   "source": []
  }
 ],
 "metadata": {
  "kernelspec": {
   "display_name": "Python 3",
   "language": "python",
   "name": "python3"
  },
  "language_info": {
   "codemirror_mode": {
    "name": "ipython",
    "version": 3
   },
   "file_extension": ".py",
   "mimetype": "text/x-python",
   "name": "python",
   "nbconvert_exporter": "python",
   "pygments_lexer": "ipython3",
   "version": "3.8.5"
  }
 },
 "nbformat": 4,
 "nbformat_minor": 4
}
