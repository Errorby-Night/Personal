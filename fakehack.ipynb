{
 "cells": [
  {
   "cell_type": "code",
   "execution_count": 2,
   "metadata": {},
   "outputs": [],
   "source": [
    "import time as t\n",
    "import pyautogui as p"
   ]
  },
  {
   "cell_type": "code",
   "execution_count": 12,
   "metadata": {},
   "outputs": [
    {
     "name": "stdout",
     "output_type": "stream",
     "text": [
      "HAcking into main frame...  10 %\n",
      "HAcking into main frame...  20.0 %\n",
      "HAcking into main frame...  30.0 %\n",
      "HAcking into main frame...  40.0 %\n",
      "HAcking into main frame...  50.0 %\n",
      "HAcking into main frame...  60.0 %\n",
      "HAcking into main frame...  70.0 %\n",
      "HAcking into main frame...  80.0 %\n",
      "HAcking into main frame...  90.0 %\n",
      "HAcking into main frame...  100.0 %\n",
      "Hacked successfully into mainframe\n"
     ]
    }
   ],
   "source": [
    "j=10\n",
    "for i in range(10):\n",
    "    t.sleep(3)\n",
    "    j=j*(i+1)\n",
    "    print(\"HAcking into main frame... \",j, \"%\")\n",
    "    j=j/(i+1)\n",
    "j=100.0\n",
    "if j==100.0:\n",
    "    print(\"Hacked successfully into mainframe\")"
   ]
  },
  {
   "cell_type": "code",
   "execution_count": null,
   "metadata": {},
   "outputs": [],
   "source": []
  },
  {
   "cell_type": "code",
   "execution_count": null,
   "metadata": {},
   "outputs": [],
   "source": []
  }
 ],
 "metadata": {
  "kernelspec": {
   "display_name": "Python 3",
   "language": "python",
   "name": "python3"
  },
  "language_info": {
   "codemirror_mode": {
    "name": "ipython",
    "version": 3
   },
   "file_extension": ".py",
   "mimetype": "text/x-python",
   "name": "python",
   "nbconvert_exporter": "python",
   "pygments_lexer": "ipython3",
   "version": "3.8.5"
  }
 },
 "nbformat": 4,
 "nbformat_minor": 4
}
